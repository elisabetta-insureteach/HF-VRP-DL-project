{
 "cells": [
  {
   "cell_type": "code",
   "execution_count": 3,
   "id": "50b5ded4",
   "metadata": {},
   "outputs": [
    {
     "name": "stdout",
     "output_type": "stream",
     "text": [
      "               Category Algorithm   Config      ObjVal    ObjBound    MIPGap  \\\n",
      "0         r_15_30_30_30      base   All VI  310.721080  308.397271  0.007436   \n",
      "1         r_15_30_30_30      base    No VI  306.995472  304.558846  0.007929   \n",
      "2         r_15_30_30_30      base      VI1  306.995472  304.740285  0.007372   \n",
      "3         r_15_30_30_30      base  VI1+VI4  306.995471  304.840558  0.007030   \n",
      "4         r_15_30_30_30      base      VI2  306.995472  304.558846  0.007929   \n",
      "..                  ...       ...      ...         ...         ...       ...   \n",
      "83  r_35_70_30_70_6navi      base      VI3  451.042058  299.044455  0.336992   \n",
      "84  r_35_70_30_70_6navi      base  VI3+VI4  428.393510  300.390145  0.298799   \n",
      "85  r_35_70_30_70_6navi      base      VI4  433.821012  306.948970  0.292453   \n",
      "86  r_35_70_30_70_6navi       ils     base  465.084178  449.405855  0.033711   \n",
      "87  r_35_70_30_70_6navi       lns     base  452.519048  428.885818  0.052226   \n",
      "\n",
      "    RuntimeTotal  \n",
      "0      48.853888  \n",
      "1      27.355726  \n",
      "2      23.303130  \n",
      "3      14.885350  \n",
      "4      26.466671  \n",
      "..           ...  \n",
      "83    600.663368  \n",
      "84    600.649962  \n",
      "85    787.911727  \n",
      "86    317.788713  \n",
      "87    141.670580  \n",
      "\n",
      "[88 rows x 7 columns]\n"
     ]
    }
   ],
   "source": [
    "import pandas as pd\n",
    "\n",
    "# Carica il CSV\n",
    "df = pd.read_csv(\"results/results.csv\")\n",
    "\n",
    "# Estrai la categoria dalla colonna Instance\n",
    "df[\"Category\"] = df[\"Instance\"].str.extract(r'(r_\\d+_\\d+_\\d+_\\d+(?:_6navi)?)')\n",
    "\n",
    "# Raggruppa per categoria, algoritmo e configurazione\n",
    "grouped = df.groupby([\"Category\", \"Algorithm\", \"Config\"])\n",
    "\n",
    "# Calcola le medie desiderate\n",
    "summary = grouped[[\"ObjVal\", \"ObjBound\", \"MIPGap\", \"RuntimeTotal\"]].mean().reset_index()\n",
    "\n",
    "# Ordina per categoria e algoritmo (opzionale)\n",
    "summary = summary.sort_values(by=[\"Category\", \"Algorithm\", \"Config\"])\n",
    "\n",
    "# Visualizza o salva\n",
    "print(summary)\n",
    "summary.to_csv(\"aggregati_per_categoria.csv\", index=False)\n"
   ]
  },
  {
   "cell_type": "code",
   "execution_count": 10,
   "id": "1f220341",
   "metadata": {},
   "outputs": [
    {
     "name": "stdout",
     "output_type": "stream",
     "text": [
      "               Category Algorithm   Config   ObjVal  ObjBound  MIPGap  \\\n",
      "0         r_15_30_30_30      base   All VI  310.721   308.397   0.007   \n",
      "1         r_15_30_30_30      base    No VI  306.995   304.559   0.008   \n",
      "2         r_15_30_30_30      base      VI1  306.995   304.740   0.007   \n",
      "3         r_15_30_30_30      base  VI1+VI4  306.995   304.841   0.007   \n",
      "4         r_15_30_30_30      base      VI2  306.995   304.559   0.008   \n",
      "..                  ...       ...      ...      ...       ...     ...   \n",
      "83  r_35_70_30_70_6navi      base      VI3  451.042   299.044   0.337   \n",
      "84  r_35_70_30_70_6navi      base  VI3+VI4  428.394   300.390   0.299   \n",
      "85  r_35_70_30_70_6navi      base      VI4  433.821   306.949   0.292   \n",
      "86  r_35_70_30_70_6navi       ils     base  465.084   449.406   0.034   \n",
      "87  r_35_70_30_70_6navi       lns     base  452.519   428.886   0.052   \n",
      "\n",
      "    RuntimeTotal       OF  \n",
      "0         48.854  276.036  \n",
      "1         27.356  267.648  \n",
      "2         23.303  267.649  \n",
      "3         14.885  267.648  \n",
      "4         26.467  267.648  \n",
      "..           ...      ...  \n",
      "83       600.663  451.042  \n",
      "84       600.650  428.394  \n",
      "85       787.912  433.821  \n",
      "86       317.789  465.084  \n",
      "87       141.671  452.519  \n",
      "\n",
      "[88 rows x 8 columns]\n"
     ]
    }
   ],
   "source": [
    "import pandas as pd\n",
    "\n",
    "df = pd.read_csv(\"results/results.csv\")\n",
    "df[\"Category\"] = df[\"Instance\"].str.extract(r'(r_\\d+_\\d+_\\d+_\\d+(?:_6navi)?)')\n",
    "\n",
    "# Raggruppa per categoria, algoritmo e configurazione\n",
    "grouped = df.groupby([\"Category\", \"Algorithm\", \"Config\"])\n",
    "\n",
    "# Calcola medie e minimo OF\n",
    "summary = grouped[[\"ObjVal\", \"ObjBound\", \"MIPGap\", \"RuntimeTotal\"]].mean()\n",
    "summary[\"OF\"] = grouped[\"ObjVal\"].min()\n",
    "\n",
    "# Reset index e arrotonda\n",
    "summary = summary.reset_index().round(3)\n",
    "\n",
    "print(summary)\n",
    "summary.to_csv(\"aggregati_con_OF_min.csv\", index=False)\n"
   ]
  },
  {
   "cell_type": "code",
   "execution_count": 11,
   "id": "eb8d6661",
   "metadata": {},
   "outputs": [
    {
     "name": "stdout",
     "output_type": "stream",
     "text": [
      "              Instance Algorithm Config   ObjVal  ObjBound  MIPGap  \\\n",
      "0  r_15_30_30_30_1.txt      base  No VI  323.212   320.012   0.010   \n",
      "1  r_15_30_30_30_1.txt      base    VI1  323.212   320.543   0.008   \n",
      "2  r_15_30_30_30_1.txt      base    VI2  323.212   320.012   0.010   \n",
      "3  r_15_30_30_30_1.txt      base    VI3  323.212   320.113   0.010   \n",
      "4  r_15_30_30_30_1.txt      base    VI4  323.212   320.419   0.009   \n",
      "\n",
      "   RuntimeGurobi  Status  RuntimeTotal  \n",
      "0         16.636       2        16.662  \n",
      "1         25.058       2        25.081  \n",
      "2         16.519       2        16.542  \n",
      "3         19.835       2        19.858  \n",
      "4         14.638       2        14.660  \n"
     ]
    }
   ],
   "source": [
    "import pandas as pd\n",
    "\n",
    "df = pd.read_csv(\"results/results.csv\")\n",
    "\n",
    "# Arrotonda tutte le colonne numeriche a tre cifre decimali\n",
    "df_rounded = df.copy()\n",
    "numeric_cols = df_rounded.select_dtypes(include=\"number\").columns\n",
    "df_rounded[numeric_cols] = df_rounded[numeric_cols].round(3)\n",
    "\n",
    "# Salva il file arrotondato\n",
    "df_rounded.to_csv(\"risultati_arrotondati.csv\", index=False)\n",
    "\n",
    "# Visualizza le prime righe (opzionale)\n",
    "print(df_rounded.head())\n",
    "\n",
    "\n",
    "\n"
   ]
  },
  {
   "cell_type": "code",
   "execution_count": null,
   "id": "e90b9174",
   "metadata": {},
   "outputs": [],
   "source": [
    "df.to_csv(\"risultati_arrotondati.csv\", sep=\";\", decimal=\",\", index=False)\n"
   ]
  }
 ],
 "metadata": {
  "kernelspec": {
   "display_name": "Python 3",
   "language": "python",
   "name": "python3"
  },
  "language_info": {
   "codemirror_mode": {
    "name": "ipython",
    "version": 3
   },
   "file_extension": ".py",
   "mimetype": "text/x-python",
   "name": "python",
   "nbconvert_exporter": "python",
   "pygments_lexer": "ipython3",
   "version": "3.9.6"
  }
 },
 "nbformat": 4,
 "nbformat_minor": 5
}
